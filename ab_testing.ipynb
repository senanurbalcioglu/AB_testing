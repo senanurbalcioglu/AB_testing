{
 "cells": [
  {
   "cell_type": "markdown",
   "id": "8e254892",
   "metadata": {},
   "source": [
    "### BUSINESS PROBLEM\n",
    "- Facebook recently introduced a new bidding type, \"average bidding\", as an alternative to the existing bidding type called \"maximumbidding\". One of our clients, bombabomba.com, decided to test this new feature and would like to do an A/B test to see if averagebidding increase interaction effect. \n",
    "- A/B testing has been going on for 1 month and bombabomba.com is now asking you to do this. It is waiting for you to analyze the results of the A/B test. \n",
    "- The success criterion for Bombambomba.com is Purchase. Therefore, the focus should be on the Purchase metric for statistical testing.\n",
    "\n",
    "#### DATASET\n",
    "- In this data set, which includes the website information of a company, there is information such as the number of advertisements that users see and click, as well as earnings information from here. There are two separate data sets, the Control and Test group. These datasets are on separate sheets of the ab_testing.xlsx excel. Maximum Bidding was applied to the control group and AverageBidding was applied to the test group.\n",
    "\n",
    "- impression: advertisement views count\n",
    "- Click: Number of clicks\n",
    "- Purchase: The number of products purchased after the advertisements clicked\n",
    "- Earning: Earnings after purchased products\n",
    "\n",
    "#### AB TESTING (Independent Sample T-Test)\n",
    "- 1. Determine null (H0) and alternative (H1) hypotheses\n",
    "- 2. Control assumptions\n",
    "    * Normal distribution (shapiro test)\n",
    "    * Homogeneity of variance (levene test)\n",
    "- 3. Apply the hypotheses\n",
    "    * Use independent two-sample t-test if assumptions are met \n",
    "    * Use mannwhitneyu test if assumptions are not met\n",
    "- 4. Comment the results according to p-value"
   ]
  },
  {
   "cell_type": "markdown",
   "id": "fabdf0d1",
   "metadata": {},
   "source": [
    "#### TASK1: Prepare the dataset"
   ]
  },
  {
   "cell_type": "code",
   "execution_count": 1,
   "id": "ab15930f",
   "metadata": {},
   "outputs": [],
   "source": [
    "import pandas as pd\n",
    "from scipy.stats import shapiro, levene, ttest_ind, mannwhitneyu\n",
    "from scipy import stats"
   ]
  },
  {
   "cell_type": "code",
   "execution_count": 2,
   "id": "a7660d91",
   "metadata": {},
   "outputs": [],
   "source": [
    "pd.set_option('display.float_format', lambda x: '%.5f' % x)"
   ]
  },
  {
   "cell_type": "code",
   "execution_count": 3,
   "id": "d678ce60",
   "metadata": {},
   "outputs": [],
   "source": [
    "#MAXIMUM BIDDING\n",
    "control_data = pd.read_excel(\"ab_testing.xlsx\",sheet_name=\"Control Group\")\n",
    "\n",
    "#AVERAGE BIDDING\n",
    "test_data = pd.read_excel(\"ab_testing.xlsx\",sheet_name=\"Test Group\")"
   ]
  },
  {
   "cell_type": "code",
   "execution_count": 4,
   "id": "7a385208",
   "metadata": {},
   "outputs": [],
   "source": [
    "def check_df(dataframe, head=5):\n",
    "    print(\"INFO\".center(70,'='))\n",
    "    print(dataframe.info())\n",
    "\n",
    "    print(\"SHAPE\".center(70,'='))\n",
    "    print('Rows: {}'.format(dataframe.shape[0]))\n",
    "    print('Columns: {}'.format(dataframe.shape[1]))\n",
    "\n",
    "    print(\"TYPES\".center(70,'='))\n",
    "    print(dataframe.dtypes)\n",
    "\n",
    "    print(\"HEAD\".center(70, '='))\n",
    "    print(dataframe.head(head))\n",
    "\n",
    "    print(\"TAIL\".center(70,'='))\n",
    "    print(dataframe.tail(head))\n",
    "\n",
    "    print(\"NULL\".center(70,'='))\n",
    "    print(dataframe.isnull().sum())\n",
    "\n",
    "    print(\"QUANTILES\".center(70,'='))\n",
    "    print(dataframe.describe().T)"
   ]
  },
  {
   "cell_type": "code",
   "execution_count": 5,
   "id": "5bb54a04",
   "metadata": {},
   "outputs": [
    {
     "name": "stdout",
     "output_type": "stream",
     "text": [
      "=================================INFO=================================\n",
      "<class 'pandas.core.frame.DataFrame'>\n",
      "RangeIndex: 40 entries, 0 to 39\n",
      "Data columns (total 4 columns):\n",
      " #   Column      Non-Null Count  Dtype  \n",
      "---  ------      --------------  -----  \n",
      " 0   Impression  40 non-null     float64\n",
      " 1   Click       40 non-null     float64\n",
      " 2   Purchase    40 non-null     float64\n",
      " 3   Earning     40 non-null     float64\n",
      "dtypes: float64(4)\n",
      "memory usage: 1.4 KB\n",
      "None\n",
      "================================SHAPE=================================\n",
      "Rows: 40\n",
      "Columns: 4\n",
      "================================TYPES=================================\n",
      "Impression    float64\n",
      "Click         float64\n",
      "Purchase      float64\n",
      "Earning       float64\n",
      "dtype: object\n",
      "=================================HEAD=================================\n",
      "    Impression      Click  Purchase    Earning\n",
      "0  82529.45927 6090.07732 665.21125 2311.27714\n",
      "1  98050.45193 3382.86179 315.08489 1742.80686\n",
      "2  82696.02355 4167.96575 458.08374 1797.82745\n",
      "3 109914.40040 4910.88224 487.09077 1696.22918\n",
      "4 108457.76263 5987.65581 441.03405 1543.72018\n",
      "=================================TAIL=================================\n",
      "     Impression      Click  Purchase    Earning\n",
      "35 132064.21900 3747.15754 551.07241 2256.97559\n",
      "36  86409.94180 4608.25621 345.04603 1781.35769\n",
      "37 123678.93423 3649.07379 476.16813 2187.72122\n",
      "38 101997.49410 4736.35337 474.61354 2254.56383\n",
      "39 121085.88122 4285.17861 590.40602 1289.30895\n",
      "=================================NULL=================================\n",
      "Impression    0\n",
      "Click         0\n",
      "Purchase      0\n",
      "Earning       0\n",
      "dtype: int64\n",
      "==============================QUANTILES===============================\n",
      "              count         mean         std         min         25%  \\\n",
      "Impression 40.00000 101711.44907 20302.15786 45475.94296 85726.69035   \n",
      "Click      40.00000   5100.65737  1329.98550  2189.75316  4124.30413   \n",
      "Purchase   40.00000    550.89406   134.10820   267.02894   470.09553   \n",
      "Earning    40.00000   1908.56830   302.91778  1253.98952  1685.84720   \n",
      "\n",
      "                   50%          75%          max  \n",
      "Impression 99790.70108 115212.81654 147539.33633  \n",
      "Click       5001.22060   5923.80360   7959.12507  \n",
      "Purchase     531.20631    637.95709    801.79502  \n",
      "Earning     1975.16052   2119.80278   2497.29522  \n"
     ]
    }
   ],
   "source": [
    "check_df(control_data)"
   ]
  },
  {
   "cell_type": "code",
   "execution_count": 6,
   "id": "30b7a325",
   "metadata": {},
   "outputs": [
    {
     "name": "stdout",
     "output_type": "stream",
     "text": [
      "=================================INFO=================================\n",
      "<class 'pandas.core.frame.DataFrame'>\n",
      "RangeIndex: 40 entries, 0 to 39\n",
      "Data columns (total 4 columns):\n",
      " #   Column      Non-Null Count  Dtype  \n",
      "---  ------      --------------  -----  \n",
      " 0   Impression  40 non-null     float64\n",
      " 1   Click       40 non-null     float64\n",
      " 2   Purchase    40 non-null     float64\n",
      " 3   Earning     40 non-null     float64\n",
      "dtypes: float64(4)\n",
      "memory usage: 1.4 KB\n",
      "None\n",
      "================================SHAPE=================================\n",
      "Rows: 40\n",
      "Columns: 4\n",
      "================================TYPES=================================\n",
      "Impression    float64\n",
      "Click         float64\n",
      "Purchase      float64\n",
      "Earning       float64\n",
      "dtype: object\n",
      "=================================HEAD=================================\n",
      "    Impression      Click  Purchase    Earning\n",
      "0 120103.50380 3216.54796 702.16035 1939.61124\n",
      "1 134775.94336 3635.08242 834.05429 2929.40582\n",
      "2 107806.62079 3057.14356 422.93426 2526.24488\n",
      "3 116445.27553 4650.47391 429.03353 2281.42857\n",
      "4 145082.51684 5201.38772 749.86044 2781.69752\n",
      "=================================TAIL=================================\n",
      "     Impression      Click  Purchase    Earning\n",
      "35  79234.91193 6002.21358 382.04712 2277.86398\n",
      "36 130702.23941 3626.32007 449.82459 2530.84133\n",
      "37 116481.87337 4702.78247 472.45373 2597.91763\n",
      "38  79033.83492 4495.42818 425.35910 2595.85788\n",
      "39 102257.45409 4800.06832 521.31073 2967.51839\n",
      "=================================NULL=================================\n",
      "Impression    0\n",
      "Click         0\n",
      "Purchase      0\n",
      "Earning       0\n",
      "dtype: int64\n",
      "==============================QUANTILES===============================\n",
      "              count         mean         std         min          25%  \\\n",
      "Impression 40.00000 120512.41176 18807.44871 79033.83492 112691.97077   \n",
      "Click      40.00000   3967.54976   923.09507  1836.62986   3376.81902   \n",
      "Purchase   40.00000    582.10610   161.15251   311.62952    444.62683   \n",
      "Earning    40.00000   2514.89073   282.73085  1939.61124   2280.53743   \n",
      "\n",
      "                    50%          75%          max  \n",
      "Impression 119291.30077 132050.57893 158605.92048  \n",
      "Click        3931.35980   4660.49791   6019.69508  \n",
      "Purchase      551.35573    699.86236    889.91046  \n",
      "Earning      2544.66611   2761.54540   3171.48971  \n"
     ]
    }
   ],
   "source": [
    "check_df(test_data)"
   ]
  },
  {
   "cell_type": "code",
   "execution_count": 7,
   "id": "de879782",
   "metadata": {},
   "outputs": [
    {
     "data": {
      "text/html": [
       "<div>\n",
       "<style scoped>\n",
       "    .dataframe tbody tr th:only-of-type {\n",
       "        vertical-align: middle;\n",
       "    }\n",
       "\n",
       "    .dataframe tbody tr th {\n",
       "        vertical-align: top;\n",
       "    }\n",
       "\n",
       "    .dataframe thead th {\n",
       "        text-align: right;\n",
       "    }\n",
       "</style>\n",
       "<table border=\"1\" class=\"dataframe\">\n",
       "  <thead>\n",
       "    <tr style=\"text-align: right;\">\n",
       "      <th></th>\n",
       "      <th>Impression</th>\n",
       "      <th>Click</th>\n",
       "      <th>Purchase</th>\n",
       "      <th>Earning</th>\n",
       "    </tr>\n",
       "  </thead>\n",
       "  <tbody>\n",
       "    <tr>\n",
       "      <th>0</th>\n",
       "      <td>82529.45927</td>\n",
       "      <td>6090.07732</td>\n",
       "      <td>665.21125</td>\n",
       "      <td>2311.27714</td>\n",
       "    </tr>\n",
       "    <tr>\n",
       "      <th>1</th>\n",
       "      <td>98050.45193</td>\n",
       "      <td>3382.86179</td>\n",
       "      <td>315.08489</td>\n",
       "      <td>1742.80686</td>\n",
       "    </tr>\n",
       "    <tr>\n",
       "      <th>2</th>\n",
       "      <td>82696.02355</td>\n",
       "      <td>4167.96575</td>\n",
       "      <td>458.08374</td>\n",
       "      <td>1797.82745</td>\n",
       "    </tr>\n",
       "    <tr>\n",
       "      <th>3</th>\n",
       "      <td>109914.40040</td>\n",
       "      <td>4910.88224</td>\n",
       "      <td>487.09077</td>\n",
       "      <td>1696.22918</td>\n",
       "    </tr>\n",
       "    <tr>\n",
       "      <th>4</th>\n",
       "      <td>108457.76263</td>\n",
       "      <td>5987.65581</td>\n",
       "      <td>441.03405</td>\n",
       "      <td>1543.72018</td>\n",
       "    </tr>\n",
       "    <tr>\n",
       "      <th>...</th>\n",
       "      <td>...</td>\n",
       "      <td>...</td>\n",
       "      <td>...</td>\n",
       "      <td>...</td>\n",
       "    </tr>\n",
       "    <tr>\n",
       "      <th>75</th>\n",
       "      <td>79234.91193</td>\n",
       "      <td>6002.21358</td>\n",
       "      <td>382.04712</td>\n",
       "      <td>2277.86398</td>\n",
       "    </tr>\n",
       "    <tr>\n",
       "      <th>76</th>\n",
       "      <td>130702.23941</td>\n",
       "      <td>3626.32007</td>\n",
       "      <td>449.82459</td>\n",
       "      <td>2530.84133</td>\n",
       "    </tr>\n",
       "    <tr>\n",
       "      <th>77</th>\n",
       "      <td>116481.87337</td>\n",
       "      <td>4702.78247</td>\n",
       "      <td>472.45373</td>\n",
       "      <td>2597.91763</td>\n",
       "    </tr>\n",
       "    <tr>\n",
       "      <th>78</th>\n",
       "      <td>79033.83492</td>\n",
       "      <td>4495.42818</td>\n",
       "      <td>425.35910</td>\n",
       "      <td>2595.85788</td>\n",
       "    </tr>\n",
       "    <tr>\n",
       "      <th>79</th>\n",
       "      <td>102257.45409</td>\n",
       "      <td>4800.06832</td>\n",
       "      <td>521.31073</td>\n",
       "      <td>2967.51839</td>\n",
       "    </tr>\n",
       "  </tbody>\n",
       "</table>\n",
       "<p>80 rows × 4 columns</p>\n",
       "</div>"
      ],
      "text/plain": [
       "     Impression      Click  Purchase    Earning\n",
       "0   82529.45927 6090.07732 665.21125 2311.27714\n",
       "1   98050.45193 3382.86179 315.08489 1742.80686\n",
       "2   82696.02355 4167.96575 458.08374 1797.82745\n",
       "3  109914.40040 4910.88224 487.09077 1696.22918\n",
       "4  108457.76263 5987.65581 441.03405 1543.72018\n",
       "..          ...        ...       ...        ...\n",
       "75  79234.91193 6002.21358 382.04712 2277.86398\n",
       "76 130702.23941 3626.32007 449.82459 2530.84133\n",
       "77 116481.87337 4702.78247 472.45373 2597.91763\n",
       "78  79033.83492 4495.42818 425.35910 2595.85788\n",
       "79 102257.45409 4800.06832 521.31073 2967.51839\n",
       "\n",
       "[80 rows x 4 columns]"
      ]
     },
     "execution_count": 7,
     "metadata": {},
     "output_type": "execute_result"
    }
   ],
   "source": [
    "df = pd.concat([control_data, test_data], ignore_index=True)\n",
    "df"
   ]
  },
  {
   "cell_type": "markdown",
   "id": "0b22f006",
   "metadata": {},
   "source": [
    "#### TASK2: DETERMINE HYPOTHESES\n",
    "* H0: M1 = M2   THERE IS NO STATISTICAL DIFFERENCE BETWEEN MAXIMUM BIDDING AND AVERAGE BIDDING PURCHASE AVERAGES\n",
    "* H1: M1 != M2  THERE IS STATISTICAL DIFFERENCE BETWEEN MAXIMUM BIDDING AND AVERAGE BIDDING PURCHASE AVERAGES"
   ]
  },
  {
   "cell_type": "code",
   "execution_count": 8,
   "id": "149b0f60",
   "metadata": {},
   "outputs": [
    {
     "data": {
      "text/plain": [
       "550.8940587702316"
      ]
     },
     "execution_count": 8,
     "metadata": {},
     "output_type": "execute_result"
    }
   ],
   "source": [
    "# Analyze control and test data according to purchase average\n",
    "control_data[\"Purchase\"].mean()"
   ]
  },
  {
   "cell_type": "code",
   "execution_count": 9,
   "id": "2568faae",
   "metadata": {},
   "outputs": [
    {
     "data": {
      "text/plain": [
       "582.1060966484677"
      ]
     },
     "execution_count": 9,
     "metadata": {},
     "output_type": "execute_result"
    }
   ],
   "source": [
    "test_data[\"Purchase\"].mean()"
   ]
  },
  {
   "cell_type": "code",
   "execution_count": 10,
   "id": "b057c6a5",
   "metadata": {},
   "outputs": [],
   "source": [
    "#H0: THE DATA IS NORMALLY DISTRIBUTED\n",
    "def normal_distribution(df, alpha=0.05):\n",
    "    test_stat, pvalue = shapiro(df[\"Purchase\"])\n",
    "    if pvalue > alpha:\n",
    "        result = \"P > \"+ str(alpha) + \" H0 not rejected\"\n",
    "    else:\n",
    "        result = \"P < \"+ str(alpha) + \" H0 rejected\"\n",
    "\n",
    "    print(\"--------------------------\")\n",
    "    print(f\"Test Statistic: {test_stat}\")\n",
    "    print(f\"P-value: {pvalue}\")\n",
    "    print(f\"Result: {result}\")\n",
    "    print(\"--------------------------\")"
   ]
  },
  {
   "cell_type": "code",
   "execution_count": 11,
   "id": "d85352e7",
   "metadata": {},
   "outputs": [
    {
     "name": "stdout",
     "output_type": "stream",
     "text": [
      "--------------------------\n",
      "Test Statistic: 0.9772694110870361\n",
      "P-value: 0.5891125202178955\n",
      "Result: P > 0.05 H0 not rejected\n",
      "--------------------------\n"
     ]
    }
   ],
   "source": [
    "normal_distribution(control_data)"
   ]
  },
  {
   "cell_type": "code",
   "execution_count": 12,
   "id": "fa6658c6",
   "metadata": {},
   "outputs": [
    {
     "name": "stdout",
     "output_type": "stream",
     "text": [
      "--------------------------\n",
      "Test Statistic: 0.9589453935623169\n",
      "P-value: 0.15413342416286469\n",
      "Result: P > 0.05 H0 not rejected\n",
      "--------------------------\n"
     ]
    }
   ],
   "source": [
    "normal_distribution(test_data)"
   ]
  },
  {
   "cell_type": "code",
   "execution_count": 13,
   "id": "5dd3ace4",
   "metadata": {},
   "outputs": [],
   "source": [
    "#H0: THE VARIANCE IS HOMOGENEOUS\n",
    "def variance_homogeneity(df, df2, alpha=0.05):\n",
    "    test_stat, pvalue = levene(df[\"Purchase\"],df2[\"Purchase\"])\n",
    "    if pvalue > alpha:\n",
    "        result = \"P > \"+ str(alpha) + \" H0 not rejected\"\n",
    "    else:\n",
    "        result = \"P < \"+ str(alpha) + \" H0 rejected\"\n",
    "\n",
    "    print(\"--------------------------\")\n",
    "    print(f\"Test Statistic: {test_stat}\")\n",
    "    print(f\"P-value: {pvalue}\")\n",
    "    print(f\"Result: {result}\")\n",
    "    print(\"--------------------------\")"
   ]
  },
  {
   "cell_type": "code",
   "execution_count": 14,
   "id": "28d70147",
   "metadata": {},
   "outputs": [
    {
     "name": "stdout",
     "output_type": "stream",
     "text": [
      "--------------------------\n",
      "Test Statistic: 2.6392694728747363\n",
      "P-value: 0.10828588271874791\n",
      "Result: P > 0.05 H0 not rejected\n",
      "--------------------------\n"
     ]
    }
   ],
   "source": [
    "variance_homogeneity(control_data,test_data)"
   ]
  },
  {
   "cell_type": "code",
   "execution_count": 15,
   "id": "5c867d77",
   "metadata": {},
   "outputs": [],
   "source": [
    "def t_test(df,df2,alpha=0.05):\n",
    "    test_stat, pvalue = ttest_ind(df[\"Purchase\"],df2[\"Purchase\"], equal_var=True)\n",
    "    if pvalue > alpha:\n",
    "        result = \"P > \"+ str(alpha) + \" H0 not rejected\"\n",
    "    else:\n",
    "        result = \"P < \"+ str(alpha) + \" H0 rejected\"\n",
    "\n",
    "    print(\"--------------------------\")\n",
    "    print(f\"Test Statistic: {test_stat}\")\n",
    "    print(f\"P-value: {pvalue}\")\n",
    "    print(f\"Result: {result}\")\n",
    "    print(\"--------------------------\")"
   ]
  },
  {
   "cell_type": "code",
   "execution_count": 16,
   "id": "b514f5d2",
   "metadata": {},
   "outputs": [
    {
     "name": "stdout",
     "output_type": "stream",
     "text": [
      "--------------------------\n",
      "Test Statistic: -0.9415584300312966\n",
      "P-value: 0.34932579202108416\n",
      "Result: P > 0.05 H0 not rejected\n",
      "--------------------------\n"
     ]
    }
   ],
   "source": [
    "t_test(control_data,test_data)"
   ]
  },
  {
   "cell_type": "markdown",
   "id": "8cd9c66c",
   "metadata": {},
   "source": [
    "#### H0 not rejected. THERE IS NO STATISTICAL DIFFERENCE BETWEEN MAXIMUM BIDDING AND AVERAGE BIDDING PURCHASE AVERAGES"
   ]
  },
  {
   "cell_type": "code",
   "execution_count": null,
   "id": "73505295",
   "metadata": {},
   "outputs": [],
   "source": []
  }
 ],
 "metadata": {
  "kernelspec": {
   "display_name": "Python 3 (ipykernel)",
   "language": "python",
   "name": "python3"
  },
  "language_info": {
   "codemirror_mode": {
    "name": "ipython",
    "version": 3
   },
   "file_extension": ".py",
   "mimetype": "text/x-python",
   "name": "python",
   "nbconvert_exporter": "python",
   "pygments_lexer": "ipython3",
   "version": "3.8.3"
  }
 },
 "nbformat": 4,
 "nbformat_minor": 5
}
